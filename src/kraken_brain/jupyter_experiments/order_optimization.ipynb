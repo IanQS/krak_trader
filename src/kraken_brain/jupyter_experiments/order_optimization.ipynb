{
 "cells": [
  {
   "cell_type": "code",
   "execution_count": 4,
   "metadata": {},
   "outputs": [
    {
     "name": "stdout",
     "output_type": "stream",
     "text": [
      "\n"
     ]
    }
   ],
   "source": [
    "\"\"\"\n",
    "Express placing orders as a constrained optimization problem\n",
    "\n",
    "Explicit constraints:\n",
    "    1) spending allocation (how much you're willing to spend)\n",
    "    2) lower bound on price prediction\n",
    "    \n",
    "Note:\n",
    "    Lower bound on price prediction is where you believe with very strong certainty that the price will\n",
    "    never dip below. Think of it as the \"last support\" before a full-fledged market crash\n",
    "\"\"\"\n",
    "print()"
   ]
  },
  {
   "cell_type": "code",
   "execution_count": 3,
   "metadata": {},
   "outputs": [],
   "source": [
    "import cvxpy"
   ]
  },
  {
   "cell_type": "code",
   "execution_count": 5,
   "metadata": {},
   "outputs": [],
   "source": [
    "def optimize(spending=100, lower_bounds=[0.6, 0.3]):\n",
    "    \"\"\"\n",
    "    fuk\n",
    "    \"\"\""
   ]
  },
  {
   "cell_type": "code",
   "execution_count": null,
   "metadata": {},
   "outputs": [],
   "source": []
  }
 ],
 "metadata": {
  "kernelspec": {
   "display_name": "Python 3",
   "language": "python",
   "name": "python3"
  },
  "language_info": {
   "codemirror_mode": {
    "name": "ipython",
    "version": 3
   },
   "file_extension": ".py",
   "mimetype": "text/x-python",
   "name": "python",
   "nbconvert_exporter": "python",
   "pygments_lexer": "ipython3",
   "version": "3.6.5"
  }
 },
 "nbformat": 4,
 "nbformat_minor": 2
}
