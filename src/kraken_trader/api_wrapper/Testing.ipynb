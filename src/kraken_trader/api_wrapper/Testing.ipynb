{
 "cells": [
  {
   "cell_type": "code",
   "execution_count": 1,
   "metadata": {},
   "outputs": [],
   "source": [
    "from kraken_trader.api_wrapper.wrapper import Interface\n",
    "import krakenex\n",
    "import pprint\n",
    "\n",
    "from kraken_trader.utils import get_usd_pair_listing, remove_counter\n",
    "import copy"
   ]
  },
  {
   "cell_type": "code",
   "execution_count": 2,
   "metadata": {},
   "outputs": [],
   "source": [
    "broker = Interface()"
   ]
  },
  {
   "cell_type": "code",
   "execution_count": 3,
   "metadata": {},
   "outputs": [
    {
     "data": {
      "text/plain": [
       "{'ZUSD': {'volume': 0, 'notional': 0, 'weighted': 0.0},\n",
       " 'XXRP': {'volume': 70.0, 'notional': 32.0838, 'weighted': 0.46},\n",
       " 'XXLM': {'volume': 0, 'notional': 0, 'weighted': 0.0},\n",
       " 'EOS': {'volume': 18.0, 'notional': 128.6, 'weighted': 7.14}}"
      ]
     },
     "execution_count": 3,
     "metadata": {},
     "output_type": "execute_result"
    }
   ],
   "source": [
    "broker.weighted_price"
   ]
  },
  {
   "cell_type": "code",
   "execution_count": 4,
   "metadata": {},
   "outputs": [
    {
     "data": {
      "text/plain": [
       "{'ZUSD': {'volume': 1409.795, 'rate': 1.0},\n",
       " 'XXRP': {'volume': 70.0, 'rate': 0.45794},\n",
       " 'XXLM': {'volume': 0.0, 'rate': 0.19},\n",
       " 'EOS': {'volume': 18.00000002, 'rate': 8.0015}}"
      ]
     },
     "execution_count": 4,
     "metadata": {},
     "output_type": "execute_result"
    }
   ],
   "source": [
    "broker.breakdown"
   ]
  },
  {
   "cell_type": "code",
   "execution_count": 5,
   "metadata": {},
   "outputs": [
    {
     "data": {
      "text/plain": [
       "1585.7805"
      ]
     },
     "execution_count": 5,
     "metadata": {},
     "output_type": "execute_result"
    }
   ],
   "source": [
    "broker.value"
   ]
  },
  {
   "cell_type": "code",
   "execution_count": 8,
   "metadata": {},
   "outputs": [
    {
     "data": {
      "text/plain": [
       "{'ZUSD': 41.49434999999994,\n",
       " 'allocattions': {'XRPUSD': 247.2655, 'EOSUSD': 544.556, 'XLMUSD': 576.47915}}"
      ]
     },
     "execution_count": 8,
     "metadata": {},
     "output_type": "execute_result"
    }
   ],
   "source": [
    "broker.unallocated"
   ]
  },
  {
   "cell_type": "code",
   "execution_count": 9,
   "metadata": {},
   "outputs": [
    {
     "name": "stdout",
     "output_type": "stream",
     "text": [
      "{'pair': 'XRPUSD', 'type': 'buy', 'ordertype': 'limit', 'price': '0.44330', 'price2': '0', 'leverage': 'none', 'order': 'buy 150.00000000 XRPUSD @ limit 0.44330', 'close': ''}\n",
      "{'pair': 'XRPUSD', 'type': 'buy', 'ordertype': 'limit', 'price': '0.44741', 'price2': '0', 'leverage': 'none', 'order': 'buy 125.00000000 XRPUSD @ limit 0.44741', 'close': ''}\n",
      "{'pair': 'XRPUSD', 'type': 'buy', 'ordertype': 'limit', 'price': '0.44979', 'price2': '0', 'leverage': 'none', 'order': 'buy 100.00000000 XRPUSD @ limit 0.44979', 'close': ''}\n",
      "{'pair': 'XRPUSD', 'type': 'buy', 'ordertype': 'limit', 'price': '0.45200', 'price2': '0', 'leverage': 'none', 'order': 'buy 75.00000000 XRPUSD @ limit 0.45200', 'close': ''}\n",
      "{'pair': 'XRPUSD', 'type': 'buy', 'ordertype': 'limit', 'price': '0.45418', 'price2': '0', 'leverage': 'none', 'order': 'buy 50.00000000 XRPUSD @ limit 0.45418', 'close': ''}\n",
      "{'pair': 'EOSUSD', 'type': 'buy', 'ordertype': 'limit', 'price': '7.2000', 'price2': '0', 'leverage': 'none', 'order': 'buy 30.00000000 EOSUSD @ limit 7.2000', 'close': ''}\n",
      "{'pair': 'EOSUSD', 'type': 'buy', 'ordertype': 'limit', 'price': '7.3500', 'price2': '0', 'leverage': 'none', 'order': 'buy 20.00000000 EOSUSD @ limit 7.3500', 'close': ''}\n",
      "{'pair': 'EOSUSD', 'type': 'buy', 'ordertype': 'limit', 'price': '7.5000', 'price2': '0', 'leverage': 'none', 'order': 'buy 16.00000000 EOSUSD @ limit 7.5000', 'close': ''}\n",
      "{'pair': 'EOSUSD', 'type': 'buy', 'ordertype': 'limit', 'price': '7.6945', 'price2': '0', 'leverage': 'none', 'order': 'buy 8.00000000 EOSUSD @ limit 7.6945', 'close': ''}\n",
      "{'pair': 'XLMUSD', 'type': 'buy', 'ordertype': 'limit', 'price': '0.173300', 'price2': '0', 'leverage': 'none', 'order': 'buy 1150.00000000 XLMUSD @ limit 0.173300', 'close': ''}\n",
      "{'pair': 'XLMUSD', 'type': 'buy', 'ordertype': 'limit', 'price': '0.180000', 'price2': '0', 'leverage': 'none', 'order': 'buy 700.00000000 XLMUSD @ limit 0.180000', 'close': ''}\n",
      "{'pair': 'XLMUSD', 'type': 'buy', 'ordertype': 'limit', 'price': '0.183000', 'price2': '0', 'leverage': 'none', 'order': 'buy 550.00000000 XLMUSD @ limit 0.183000', 'close': ''}\n",
      "{'pair': 'XLMUSD', 'type': 'buy', 'ordertype': 'limit', 'price': '0.177099', 'price2': '0', 'leverage': 'none', 'order': 'buy 850.00000000 XLMUSD @ limit 0.177099', 'close': ''}\n",
      "{'pair': 'EOSUSD', 'type': 'sell', 'ordertype': 'limit', 'price': '8.5800', 'price2': '0', 'leverage': 'none', 'order': 'sell 3.00000000 EOSUSD @ limit 8.5800', 'close': ''}\n",
      "{'pair': 'EOSUSD', 'type': 'sell', 'ordertype': 'limit', 'price': '8.5000', 'price2': '0', 'leverage': 'none', 'order': 'sell 3.00000000 EOSUSD @ limit 8.5000', 'close': ''}\n",
      "{'pair': 'EOSUSD', 'type': 'sell', 'ordertype': 'limit', 'price': '8.4000', 'price2': '0', 'leverage': 'none', 'order': 'sell 3.00000000 EOSUSD @ limit 8.4000', 'close': ''}\n",
      "{'pair': 'EOSUSD', 'type': 'sell', 'ordertype': 'limit', 'price': '8.2621', 'price2': '0', 'leverage': 'none', 'order': 'sell 3.00000000 EOSUSD @ limit 8.2621', 'close': ''}\n",
      "{'pair': 'EOSUSD', 'type': 'sell', 'ordertype': 'limit', 'price': '8.3300', 'price2': '0', 'leverage': 'none', 'order': 'sell 3.00000000 EOSUSD @ limit 8.3300', 'close': ''}\n"
     ]
    }
   ],
   "source": [
    "open_orders = broker._exchange.query_private('OpenOrders')\n",
    "\n",
    "breakdown = {}\n",
    "for _id, details in open_orders['result']['open'].items():\n",
    "    if data['type'] != 'buy':\n",
    "        continue\n",
    "    data = details['descr']\n",
    "    print(data)"
   ]
  },
  {
   "cell_type": "code",
   "execution_count": null,
   "metadata": {},
   "outputs": [],
   "source": []
  }
 ],
 "metadata": {
  "kernelspec": {
   "display_name": "Python 3",
   "language": "python",
   "name": "python3"
  },
  "language_info": {
   "codemirror_mode": {
    "name": "ipython",
    "version": 3
   },
   "file_extension": ".py",
   "mimetype": "text/x-python",
   "name": "python",
   "nbconvert_exporter": "python",
   "pygments_lexer": "ipython3",
   "version": "3.6.5"
  }
 },
 "nbformat": 4,
 "nbformat_minor": 2
}
