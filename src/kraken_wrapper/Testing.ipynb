{
 "cells": [
  {
   "cell_type": "code",
   "execution_count": 1,
   "metadata": {},
   "outputs": [],
   "source": [
    "from kraken_wrapper.wrapper import Interface\n",
    "import krakenex\n",
    "import pprint\n",
    "\n",
    "from kraken_wrapper.utils import get_usd_pair_listing, remove_counter\n",
    "import copy"
   ]
  },
  {
   "cell_type": "code",
   "execution_count": 2,
   "metadata": {},
   "outputs": [],
   "source": [
    "broker = Interface()"
   ]
  },
  {
   "cell_type": "code",
   "execution_count": 3,
   "metadata": {
    "scrolled": true
   },
   "outputs": [
    {
     "data": {
      "text/plain": [
       "{'ZUSD': {'volume': 0, 'notional': 0, 'weighted': 0.0},\n",
       " 'XXRP': {'volume': 1875.0, 'notional': 901.24475, 'weighted': 0.480664},\n",
       " 'XXLM': {'volume': 0, 'notional': 0, 'weighted': 0.0},\n",
       " 'EOS': {'volume': 51.0, 'notional': 435.77000000000004, 'weighted': 8.54451}}"
      ]
     },
     "execution_count": 3,
     "metadata": {},
     "output_type": "execute_result"
    }
   ],
   "source": [
    "broker.weighted_price"
   ]
  },
  {
   "cell_type": "code",
   "execution_count": 4,
   "metadata": {},
   "outputs": [
    {
     "data": {
      "text/plain": [
       "{'ZUSD': {'volume': 259.0885, 'rate': 1.0},\n",
       " 'XXRP': {'volume': 1875.0, 'rate': 0.47448},\n",
       " 'XXLM': {'volume': 0.0, 'rate': 0.197663},\n",
       " 'EOS': {'volume': 51.00000002, 'rate': 8.5329}}"
      ]
     },
     "execution_count": 4,
     "metadata": {},
     "output_type": "execute_result"
    }
   ],
   "source": [
    "broker.breakdown"
   ]
  },
  {
   "cell_type": "code",
   "execution_count": 5,
   "metadata": {},
   "outputs": [
    {
     "data": {
      "text/plain": [
       "1583.8591"
      ]
     },
     "execution_count": 5,
     "metadata": {},
     "output_type": "execute_result"
    }
   ],
   "source": [
    "broker.value"
   ]
  },
  {
   "cell_type": "code",
   "execution_count": 6,
   "metadata": {},
   "outputs": [
    {
     "data": {
      "text/plain": [
       "{'ZUSD': 51.58849999999998, 'allocations': {'EOSUSD': 207.50000000000003}}"
      ]
     },
     "execution_count": 6,
     "metadata": {},
     "output_type": "execute_result"
    }
   ],
   "source": [
    "broker.unallocated"
   ]
  },
  {
   "cell_type": "code",
   "execution_count": 65,
   "metadata": {},
   "outputs": [
    {
     "name": "stdout",
     "output_type": "stream",
     "text": [
      "total 7.6M\r\n",
      "drwx------  2 itq  itq  4.0K Jul  5 09:37 .\r\n",
      "drwxr-x---+ 3 root root 4.0K Jun 22 17:39 ..\r\n",
      "-rw-r--r--  1 itq  itq  8.3K Jul  4 22:53 1530759203.3338196.npz\r\n",
      "-rw-r--r--  1 itq  itq  7.6M Jul  5 09:37 1530797845.7245092.npz\r\n"
     ]
    }
   ],
   "source": []
  },
  {
   "cell_type": "code",
   "execution_count": null,
   "metadata": {},
   "outputs": [],
   "source": []
  }
 ],
 "metadata": {
  "kernelspec": {
   "display_name": "Python 3",
   "language": "python",
   "name": "python3"
  },
  "language_info": {
   "codemirror_mode": {
    "name": "ipython",
    "version": 3
   },
   "file_extension": ".py",
   "mimetype": "text/x-python",
   "name": "python",
   "nbconvert_exporter": "python",
   "pygments_lexer": "ipython3",
   "version": "3.6.5"
  }
 },
 "nbformat": 4,
 "nbformat_minor": 2
}
