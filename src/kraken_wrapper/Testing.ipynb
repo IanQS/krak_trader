{
 "cells": [
  {
   "cell_type": "code",
   "execution_count": 1,
   "metadata": {},
   "outputs": [],
   "source": [
    "from kraken_wrapper.wrapper import Interface\n",
    "import krakenex\n",
    "import pprint\n",
    "\n",
    "from kraken_wrapper.utils import get_usd_pair_listing, remove_counter\n",
    "import copy"
   ]
  },
  {
   "cell_type": "code",
   "execution_count": 2,
   "metadata": {},
   "outputs": [],
   "source": [
    "broker = Interface()"
   ]
  },
  {
   "cell_type": "code",
   "execution_count": 3,
   "metadata": {
    "scrolled": true
   },
   "outputs": [
    {
     "data": {
      "text/plain": [
       "{'ZUSD': {'volume': 0, 'notional': 0, 'weighted': 0.0},\n",
       " 'XXRP': {'volume': 350.11182109,\n",
       "  'notional': 168.56134505,\n",
       "  'weighted': 0.48145},\n",
       " 'XXLM': {'volume': 0, 'notional': 0, 'weighted': 0.0},\n",
       " 'EOS': {'volume': 11.0, 'notional': 95.15, 'weighted': 8.65}}"
      ]
     },
     "execution_count": 3,
     "metadata": {},
     "output_type": "execute_result"
    }
   ],
   "source": [
    "broker.weighted_price"
   ]
  },
  {
   "cell_type": "code",
   "execution_count": 4,
   "metadata": {},
   "outputs": [
    {
     "data": {
      "text/plain": [
       "{'ZUSD': {'volume': 1335.991, 'rate': 1.0},\n",
       " 'XXRP': {'volume': 375.0, 'rate': 0.48524},\n",
       " 'XXLM': {'volume': 0.0, 'rate': 0.208909},\n",
       " 'EOS': {'volume': 11.00000002, 'rate': 8.8242}}"
      ]
     },
     "execution_count": 4,
     "metadata": {},
     "output_type": "execute_result"
    }
   ],
   "source": [
    "broker.breakdown"
   ]
  },
  {
   "cell_type": "code",
   "execution_count": 5,
   "metadata": {},
   "outputs": [
    {
     "data": {
      "text/plain": [
       "1615.6715"
      ]
     },
     "execution_count": 5,
     "metadata": {},
     "output_type": "execute_result"
    }
   ],
   "source": [
    "broker.value"
   ]
  },
  {
   "cell_type": "code",
   "execution_count": 6,
   "metadata": {},
   "outputs": [
    {
     "data": {
      "text/plain": [
       "{'ZUSD': 1128.491, 'allocations': {'EOSUSD': 207.50000000000003}}"
      ]
     },
     "execution_count": 6,
     "metadata": {},
     "output_type": "execute_result"
    }
   ],
   "source": [
    "broker.unallocated"
   ]
  }
 ],
 "metadata": {
  "kernelspec": {
   "display_name": "Python 3",
   "language": "python",
   "name": "python3"
  },
  "language_info": {
   "codemirror_mode": {
    "name": "ipython",
    "version": 3
   },
   "file_extension": ".py",
   "mimetype": "text/x-python",
   "name": "python",
   "nbconvert_exporter": "python",
   "pygments_lexer": "ipython3",
   "version": "3.6.5"
  }
 },
 "nbformat": 4,
 "nbformat_minor": 2
}
