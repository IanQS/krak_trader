{
 "cells": [
  {
   "cell_type": "code",
   "execution_count": 16,
   "metadata": {},
   "outputs": [],
   "source": [
    "from kraken_wrapper.wrapper import Interface\n",
    "import krakenex\n",
    "import pprint\n",
    "\n",
    "from kraken_wrapper.utils import get_usd_pair_listing, remove_counter\n",
    "import copy"
   ]
  },
  {
   "cell_type": "code",
   "execution_count": 17,
   "metadata": {},
   "outputs": [],
   "source": [
    "broker = Interface()"
   ]
  },
  {
   "cell_type": "code",
   "execution_count": 18,
   "metadata": {
    "scrolled": true
   },
   "outputs": [
    {
     "data": {
      "text/plain": [
       "{'ZUSD': {'volume': 0, 'notional': 0, 'weighted': 0.0},\n",
       " 'XXRP': {'volume': 600.11182109,\n",
       "  'notional': 286.38684505,\n",
       "  'weighted': 0.477222},\n",
       " 'XXLM': {'volume': 0, 'notional': 0, 'weighted': 0.0},\n",
       " 'EOS': {'volume': 131.0, 'notional': 1081.6007, 'weighted': 8.256494}}"
      ]
     },
     "execution_count": 18,
     "metadata": {},
     "output_type": "execute_result"
    }
   ],
   "source": [
    "broker.weighted_price"
   ]
  },
  {
   "cell_type": "code",
   "execution_count": 19,
   "metadata": {},
   "outputs": [
    {
     "data": {
      "text/plain": [
       "{'ZUSD': {'volume': 229.948, 'rate': 1.0},\n",
       " 'XXRP': {'volume': 625.0, 'rate': 0.4718},\n",
       " 'XXLM': {'volume': 0.0, 'rate': 0.205},\n",
       " 'EOS': {'volume': 131.00000002, 'rate': 7.74}}"
      ]
     },
     "execution_count": 19,
     "metadata": {},
     "output_type": "execute_result"
    }
   ],
   "source": [
    "broker.breakdown"
   ]
  },
  {
   "cell_type": "code",
   "execution_count": 20,
   "metadata": {},
   "outputs": [
    {
     "data": {
      "text/plain": [
       "1536.7686"
      ]
     },
     "execution_count": 20,
     "metadata": {},
     "output_type": "execute_result"
    }
   ],
   "source": [
    "broker.value"
   ]
  },
  {
   "cell_type": "code",
   "execution_count": 21,
   "metadata": {},
   "outputs": [
    {
     "data": {
      "text/plain": [
       "{'ZUSD': 136.748, 'allocations': {'XRPUSD': 93.2}}"
      ]
     },
     "execution_count": 21,
     "metadata": {},
     "output_type": "execute_result"
    }
   ],
   "source": [
    "broker.unallocated"
   ]
  },
  {
   "cell_type": "code",
   "execution_count": null,
   "metadata": {},
   "outputs": [],
   "source": []
  }
 ],
 "metadata": {
  "kernelspec": {
   "display_name": "Python 3",
   "language": "python",
   "name": "python3"
  },
  "language_info": {
   "codemirror_mode": {
    "name": "ipython",
    "version": 3
   },
   "file_extension": ".py",
   "mimetype": "text/x-python",
   "name": "python",
   "nbconvert_exporter": "python",
   "pygments_lexer": "ipython3",
   "version": "3.6.5"
  }
 },
 "nbformat": 4,
 "nbformat_minor": 2
}
